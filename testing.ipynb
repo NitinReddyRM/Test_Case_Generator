{
 "cells": [
  {
   "cell_type": "code",
   "execution_count": 40,
   "id": "073eeaa2",
   "metadata": {},
   "outputs": [],
   "source": [
    "import re\n",
    "with open('Test_requriement.txt','r') as f:\n",
    "    text=f.read()\n",
    "\n",
    "\n"
   ]
  },
  {
   "cell_type": "code",
   "execution_count": 43,
   "id": "32a3aedd",
   "metadata": {},
   "outputs": [],
   "source": [
    "a=[('Generate test cases for a function that checks whether a number is prime.', [{'input': 2, 'expected': True}, {'input': 3, 'expected': True}, {'input': 4, 'expected': False}, {'input': 5, 'expected': True}, {'input': 6, 'expected': False}, {'input': 7, 'expected': True}, {'input': 8, 'expected': False}, {'input': 9, 'expected': False}, {'input': 10, 'expected': False}, {'input': 11, 'expected': True}, {'input': 13, 'expected': True}, {'input': 15, 'expected': False}, {'input': 17, 'expected': True}, {'input': 19, 'expected': True}, {'input': 21, 'expected': False}, {'input': 25, 'expected': False}, {'input': 49, 'expected': False}, {'input': 1, 'expected': False}, {'input': 0, 'expected': False}, {'input': -3, 'expected': False}, {'input': 9973, 'expected': True}, {'input': 10000, 'expected': False}]), ('Generate test cases for a function that returns the factorial of a given number.', [{'input': 0, 'expected': 1}, {'input': 1, 'expected': 1}, {'input': 2, 'expected': 2}, {'input': 3, 'expected': 6}, {'input': 5, 'expected': 120}, {'input': 10, 'expected': 3628800}, {'input': -1, 'expected': 'error'}, {'input': 2.5, 'expected': 'error'}, {'input': 'abc', 'expected': 'error'}, {'input': 3.0, 'expected': 6}, {'input': '5', 'expected': 'error'}, {'input': None, 'expected': 'error'}, {'input': True, 'expected': 'error'}, {'input': False, 'expected': 'error'}]), ('Generate test cases for a function that checks if a string is a palindrome.', [{'input': 'madam', 'expected': True}, {'input': 'racecar', 'expected': True}, {'input': '12321', 'expected': True}, {'input': '', 'expected': True}, {'input': 'a', 'expected': True}, {'input': 'Madam', 'expected': False}, {'input': 'abcba', 'expected': True}, {'input': 'abba', 'expected': True}, {'input': 'abcab', 'expected': False}, {'input': 'ab', 'expected': False}, {'input': '12345', 'expected': False}, {'input': '   ', 'expected': True}, {'input': 'ab cba', 'expected': False}, {'input': 'A man, a plan, a canal: Panama', 'expected': False}]), ('Generate test cases for a function that sorts a list of integers in ascending order.', [{'input': [3, 1, 2], 'expected': [1, 2, 3]}, {'input': [], 'expected': []}, {'input': [5], 'expected': [5]}, {'input': [1, 2, 3], 'expected': [1, 2, 3]}, {'input': [4, 3, 2, 1], 'expected': [1, 2, 3, 4]}, {'input': [-2, -5, -1], 'expected': [-5, -2, -1]}, {'input': [-1, 0, 2, -3], 'expected': [-3, -1, 0, 2]}, {'input': [5, 3, 3, 5, 1], 'expected': [1, 3, 3, 5, 5]}, {'input': [1000000, 999999], 'expected': [999999, 1000000]}, {'input': [4, 4, 4], 'expected': [4, 4, 4]}]), ('Generate test cases for a function that validates whether a string is a valid date in the format YYYY-MM-DD.', [{'input': '2020-02-29', 'expected': True}, {'input': '2021-02-29', 'expected': False}, {'input': '2024-01-01', 'expected': True}, {'input': '2024-12-31', 'expected': True}, {'input': '2024-00-10', 'expected': False}, {'input': '2024-13-01', 'expected': False}, {'input': '2024-02-30', 'expected': False}, {'input': '2024-04-31', 'expected': False}, {'input': '2024-06-31', 'expected': False}, {'input': '2024-09-31', 'expected': False}, {'input': '2024-01-32', 'expected': False}, {'input': '2024-01-00', 'expected': False}, {'input': '2024-01-01T00:00:00', 'expected': False}, {'input': '2024/01/01', 'expected': False}, {'input': '2024-1-1', 'expected': False}, {'input': '2024-01-001', 'expected': False}, {'input': '2024-01-101', 'expected': False}, {'input': 'ABCD-01-01', 'expected': False}, {'input': '2024-AB-CD', 'expected': False}, {'input': '', 'expected': False}, {'input': '2024-01-01 ', 'expected': False}, {'input': '2024-01-01a', 'expected': False}, {'input': '0000-00-00', 'expected': False}, {'input': '9999-12-31', 'expected': True}, {'input': '0000-01-01', 'expected': True}]), ('Generate test cases for a function that determines if two strings are anagrams.', [{'input1': 'listen', 'input2': 'silent', 'expected': True}, {'input1': 'triangle', 'input2': 'integral', 'expected': True}, {'input1': 'apple', 'input2': 'pale', 'expected': False}, {'input1': 'a', 'input2': 'A', 'expected': True}, {'input1': 'Dormitory', 'input2': 'Dirty Room', 'expected': True}, {'input1': 'Hello', 'input2': 'Olelh', 'expected': True}, {'input1': 'abc123', 'input2': '321cba', 'expected': True}, {'input1': 'abc', 'input2': 'abcd', 'expected': False}, {'input1': '', 'input2': '', 'expected': True}, {'input1': 'A', 'input2': 'a', 'expected': True}, {'input1': '123', 'input2': '321', 'expected': True}, {'input1': 'café', 'input2': 'cafe', 'expected': False}, {'input1': 'Silent', 'input2': 'Listen', 'expected': True}, {'input1': 'A man a plan a canal Panama', 'input2': 'Panama canal a plan a man A', 'expected': True}, {'input1': '123abc', 'input2': 'abc123', 'expected': True}, {'input1': 'abc', 'input2': 'def', 'expected': False}]), ('Generate test cases for a function that divides two numbers, including edge cases like division by zero.', [{'input': {'a': 6, 'b': 3}, 'expected': 2}, {'input': {'a': -8, 'b': 2}, 'expected': -4}, {'input': {'a': 10, 'b': -2}, 'expected': -5}, {'input': {'a': 0, 'b': 5}, 'expected': 0}, {'input': {'a': 7, 'b': 2}, 'expected': 3.5}, {'input': {'a': -9, 'b': 4}, 'expected': -2.25}, {'input': {'a': -6, 'b': -3}, 'expected': 2}, {'input': {'a': 0, 'b': 0}, 'expected': 'Division by zero error'}, {'input': {'a': 5, 'b': 0}, 'expected': 'Division by zero error'}, {'input': {'a': 0, 'b': -3}, 'expected': 0}]), ('Generate test cases for a function that returns the Nth Fibonacci number.', {'n': -1}), ('Generate test cases for a function that finds the maximum value in a list.', [{'input': [3, 1, 4, 1, 5, 9, 2, 6, 5], 'expected_output': 9}, {'input': [0], 'expected_output': 0}, {'input': [-5, -10, -3], 'expected_output': -3}, {'input': [100, 99, 98, 97], 'expected_output': 100}, {'input': [5, 5, 5, 5], 'expected_output': 5}, {'input': [1, 2, 3, 4, 5, 6, 7, 8, 9, 10], 'expected_output': 10}]), ('Generate test cases for a function that reverses the words in a sentence.', [{'input': '', 'output': ''}, {'input': 'Hi', 'output': 'Hi'}, {'input': 'Hello world', 'output': 'world Hello'}, {'input': 'This is a test', 'output': 'test a is This'}, {'input': '   Spaces   here   ', 'output': 'here Spaces'}, {'input': 'Hello, world!', 'output': 'world! Hello,'}, {'input': 'Test123 456test', 'output': '456test Test123'}, {'input': 'Multiple   spaces   here', 'output': 'here spaces Multiple'}, {'input': 'Bonjour le monde', 'output': 'monde le Bonjour'}, {'input': 'This is a test sentence, with commas and periods.', 'output': 'periods. and commas with sentence, test a is This'}])]"
   ]
  },
  {
   "cell_type": "code",
   "execution_count": 46,
   "id": "08a38c8f",
   "metadata": {},
   "outputs": [
    {
     "data": {
      "text/plain": [
       "('Generate test cases for a function that validates whether a string is a valid date in the format YYYY-MM-DD.',\n",
       " [{'input': '2020-02-29', 'expected': True},\n",
       "  {'input': '2021-02-29', 'expected': False},\n",
       "  {'input': '2024-01-01', 'expected': True},\n",
       "  {'input': '2024-12-31', 'expected': True},\n",
       "  {'input': '2024-00-10', 'expected': False},\n",
       "  {'input': '2024-13-01', 'expected': False},\n",
       "  {'input': '2024-02-30', 'expected': False},\n",
       "  {'input': '2024-04-31', 'expected': False},\n",
       "  {'input': '2024-06-31', 'expected': False},\n",
       "  {'input': '2024-09-31', 'expected': False},\n",
       "  {'input': '2024-01-32', 'expected': False},\n",
       "  {'input': '2024-01-00', 'expected': False},\n",
       "  {'input': '2024-01-01T00:00:00', 'expected': False},\n",
       "  {'input': '2024/01/01', 'expected': False},\n",
       "  {'input': '2024-1-1', 'expected': False},\n",
       "  {'input': '2024-01-001', 'expected': False},\n",
       "  {'input': '2024-01-101', 'expected': False},\n",
       "  {'input': 'ABCD-01-01', 'expected': False},\n",
       "  {'input': '2024-AB-CD', 'expected': False},\n",
       "  {'input': '', 'expected': False},\n",
       "  {'input': '2024-01-01 ', 'expected': False},\n",
       "  {'input': '2024-01-01a', 'expected': False},\n",
       "  {'input': '0000-00-00', 'expected': False},\n",
       "  {'input': '9999-12-31', 'expected': True},\n",
       "  {'input': '0000-01-01', 'expected': True}])"
      ]
     },
     "execution_count": 46,
     "metadata": {},
     "output_type": "execute_result"
    }
   ],
   "source": [
    "a[4]"
   ]
  },
  {
   "cell_type": "code",
   "execution_count": null,
   "id": "bb00c496",
   "metadata": {},
   "outputs": [],
   "source": []
  }
 ],
 "metadata": {
  "kernelspec": {
   "display_name": "venv",
   "language": "python",
   "name": "python3"
  },
  "language_info": {
   "codemirror_mode": {
    "name": "ipython",
    "version": 3
   },
   "file_extension": ".py",
   "mimetype": "text/x-python",
   "name": "python",
   "nbconvert_exporter": "python",
   "pygments_lexer": "ipython3",
   "version": "3.10.16"
  }
 },
 "nbformat": 4,
 "nbformat_minor": 5
}
